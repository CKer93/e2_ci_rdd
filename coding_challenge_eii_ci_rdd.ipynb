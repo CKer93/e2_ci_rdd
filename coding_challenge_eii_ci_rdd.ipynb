{
 "cells": [
  {
   "cell_type": "markdown",
   "id": "07834f53",
   "metadata": {},
   "source": [
    "Load required packages"
   ]
  },
  {
   "cell_type": "code",
   "execution_count": null,
   "id": "066f8294",
   "metadata": {
    "vscode": {
     "languageId": "r"
    }
   },
   "outputs": [],
   "source": [
    "library(tidyverse)\n",
    "library(haven)\n",
    "library(estimatr)\n",
    "library(texreg)\n",
    "library(latex2exp)\n",
    "library(stats)\n",
    "library(rdrobust)\n",
    "library(rddensity)\n",
    "library(rdd)"
   ]
  },
  {
   "cell_type": "markdown",
   "id": "68dd9b27",
   "metadata": {},
   "source": [
    "Load data from github and create a subset near the cutpoint"
   ]
  },
  {
   "cell_type": "code",
   "execution_count": null,
   "id": "1adaef3c",
   "metadata": {
    "vscode": {
     "languageId": "r"
    }
   },
   "outputs": [],
   "source": [
    "read_data <- function(df)\n",
    "{\n",
    "  full_path <- paste(\"https://raw.github.com/scunning1975/mixtape/master/\", \n",
    "                     df, sep = \"\")\n",
    "  df <- read_dta(full_path)\n",
    "  return(df)\n",
    "}\n",
    "\n",
    "lmb_data <- read_data(\"lmb-data.dta\")\n",
    "\n",
    "# reduce the dataset and only focus on vote shares larger 48% and lower 52%\n",
    "lmb_subset <- lmb_data %>% \n",
    "  filter(lagdemvoteshare>0. & lagdemvoteshare<0.) # vote share bounds here (format: 0.xx)\n",
    "\n",
    "#aggregating the data\n",
    "# calculate mean value for every 0.01 voteshare\n",
    "demmeans <- split(lmb_data$democrat, cut(lmb_data$lagdemvoteshare, 100)) %>%\n",
    "  lapply(mean) %>%\n",
    "  unlist()\n",
    "#creating new data frame for plotting\n",
    "agg_lmb_data <- data.frame(democrat = demmeans, lagdemvoteshare = seq(0.01,1, by = 0.01)) "
   ]
  },
  {
   "cell_type": "markdown",
   "id": "edc1a0ed",
   "metadata": {},
   "source": [
    "Main variables of interest"
   ]
  },
  {
   "cell_type": "code",
   "execution_count": null,
   "id": "1ef0e23c",
   "metadata": {
    "vscode": {
     "languageId": "r"
    }
   },
   "outputs": [],
   "source": [
    "# put Moritz main_variables <- snippet here"
   ]
  },
  {
   "cell_type": "markdown",
   "id": "ed228808",
   "metadata": {},
   "source": [
    "First, we analyze the effect of the relationship between the ADA score (how liberal is the vote) and the vote share of the Democratic candidate, the so-called party affiliation effect.\n",
    "\n",
    "To do so, we use a local linear nonparametric regression, which gives more importance to observations close to the cutpoint. Please note, that this method will be sensitive to the size of the bandwidth chosen."
   ]
  },
  {
   "cell_type": "code",
   "execution_count": null,
   "id": "3450b7e1",
   "metadata": {
    "vscode": {
     "languageId": "r"
    }
   },
   "outputs": [],
   "source": [
    "# set a suitable bandwidth\n",
    "smooth_dem0 <- lmb_data %>% \n",
    "  filter(democrat == 0) %>% \n",
    "  select(score, demvoteshare)\n",
    "smooth_dem0 <- as_tibble(ksmooth(smooth_dem0$demvoteshare, smooth_dem0$score, \n",
    "                                 kernel = \"box\", bandwidth = )) # insert the bandwith here (format: 0.x)\n",
    "\n",
    "\n",
    "smooth_dem1 <- lmb_data %>% \n",
    "  filter(democrat == 1) %>% \n",
    "  select(score, demvoteshare) %>% \n",
    "  na.omit()\n",
    "smooth_dem1 <- as_tibble(ksmooth(smooth_dem1$demvoteshare, smooth_dem1$score, \n",
    "                                 kernel = \"box\", bandwidth = )) # insert the bandwith here (format: 0.x)\n",
    "\n",
    "ggplot() + \n",
    "  geom_smooth(aes(x, y), data = smooth_dem0) +\n",
    "  geom_smooth(aes(x, y), data = smooth_dem1) +\n",
    "  geom_vline(xintercept = 0.5) +\n",
    "  xlab(\"Democrat Vote Share, time t\") +\n",
    "  ylab(\"ADA score, time t\") "
   ]
  },
  {
   "cell_type": "markdown",
   "id": "90347fc9",
   "metadata": {},
   "source": [
    "Next, we want to see, if we can find proof of an incumbent effect. This means, does a candidate has a higher chance to be re-elected in the next election period when she has won the previous election.\n",
    "\n",
    "To do so, we use a quadratic formulation to describe the relationship between the probability of winning the next election and the Democrat vote share of the most recent election."
   ]
  },
  {
   "cell_type": "code",
   "execution_count": null,
   "id": "3db1773e",
   "metadata": {
    "vscode": {
     "languageId": "r"
    }
   },
   "outputs": [],
   "source": [
    "lmb_data <- lmb_data %>%\n",
    "  mutate(gg_group = if_else(lagdemvoteshare > 0.5, 1,0))\n",
    "#plotting\n",
    "gg_srd <- ggplot(data=lmb_data, aes(lagdemvoteshare, democrat)) +\n",
    "  geom_point(aes(x = lagdemvoteshare, y = democrat), data = agg_lmb_data)  +\n",
    "  xlim(0,1) + ylim(-0.1,1.1) +\n",
    "  geom_vline(xintercept = 0.5) +\n",
    "  xlab(\"Democrat Vote Share, time t\") +\n",
    "  ylab(\"Probability of Democrat Win, time t+1\") +\n",
    "  scale_y_continuous(breaks=seq(0,1,0.2)) +\n",
    "  ggtitle(TeX(\"Effect of Initial Win on Winning Next Election: $\\\\P^D_{t+1} - P^R_{t+1}$\"))\n",
    "gg_srd + stat_smooth(aes(lagdemvoteshare, democrat, group = gg_group),\n",
    "                     method = \"lm\", formula = y ~ x + I(x^)) # set the order of the polynomial regression (I(x^o))"
   ]
  },
  {
   "cell_type": "markdown",
   "id": "c70c38cf",
   "metadata": {},
   "source": [
    "TODO: ADD DESCRIPTION !!!!\n",
    "In RDD contexts, nonparametric methods do not assume a functional form for the relationship between the outcome variable (Y) and the running variable (X).\n",
    "The model would be something like this: Y = f(X) + ε\n",
    "\n",
    "we plot the relationship between the candidates second-period ADA score and the the running variable, Democratic vote share. The discontinuty gap is defined as the combination of the 'Affect' and 'Elect' Term:\n",
    "γ= π_0 (P_(t+1)^(*D)- P_(t+1)^(*R) )+π_1 〖(P〗_(t+1)^(*D)  - P_(t+1)^(*R))"
   ]
  },
  {
   "cell_type": "code",
   "execution_count": null,
   "id": "3689ed3f",
   "metadata": {
    "vscode": {
     "languageId": "r"
    }
   },
   "outputs": [],
   "source": [
    "#aggregating the data\n",
    "categories <- lmb_data$lagdemvoteshare\n",
    "\n",
    "demmeans <- split(lmb_data$score, cut(lmb_data$lagdemvoteshare, 100)) %>% \n",
    "  lapply(mean) %>% \n",
    "  unlist()\n",
    "\n",
    "agg_lmb_data <- data.frame(score = demmeans, lagdemvoteshare = seq(0.01,1, by = 0.01))\n",
    "\n",
    "#plotting\n",
    "lmb_data <- lmb_data %>% \n",
    "  mutate(gg_group = case_when(lagdemvoteshare > 0.5 ~ 1, TRUE ~ 0))\n",
    "\n",
    "\n",
    " ggplot(lmb_data, aes(lagdemvoteshare, score)) +\n",
    "  xlab(\"Democrat Vote Share, time t\") +\n",
    "  ylab(\"ADA Score, time t+1\") +\n",
    "  geom_point(aes(x = lagdemvoteshare, y = score), data = agg_lmb_data) +\n",
    "  stat_smooth(aes(lagdemvoteshare, score, group = gg_group), method = \"lm\") +\n",
    "  xlim(0,1) + ylim(0,100) +\n",
    "  geom_vline(xintercept = 0.5)\n",
    "\n",
    "ggplot(lmb_data, aes(lagdemvoteshare, score)) +\n",
    "  xlab(\"Democrat Vote Share, time t\") +\n",
    "  ylab(\"ADA Score, time t+1\") +\n",
    "  geom_point(aes(x = lagdemvoteshare, y = score), data = agg_lmb_data) +\n",
    "  stat_smooth(aes(lagdemvoteshare, score, group = gg_group), method = \"lm\",\n",
    "              # formula = [...] what needs to be added here, to make the regression more smooth? Hint: order of polynomial reg.\n",
    "             ) + \n",
    "  xlim(0,1) + ylim(0,100) +\n",
    "  geom_vline(xintercept = 0.5)"
   ]
  },
  {
   "cell_type": "markdown",
   "id": "ce37e672",
   "metadata": {},
   "source": [
    "TODO: Moritz\n",
    "ADD tabluar analyses here !!! (if needed see Mixtape code snippets 2-6)"
   ]
  },
  {
   "cell_type": "code",
   "execution_count": null,
   "id": "42935b50",
   "metadata": {
    "vscode": {
     "languageId": "r"
    }
   },
   "outputs": [],
   "source": [
    "##Replication of Results of Lee, Moretti, and Butler (2004)\n",
    "# Restrict data containg the Democrat vote share between 48 percent and 52 percent\n",
    "# `lagdemvoteshare` is the Dem. voteshare of the t-1 period\n",
    "lmb_subset <- lmb_data %>%\n",
    "  filter(lagdemvoteshare>.48 & lagdemvoteshare<.52)\n",
    "# E[ADA_{t+1}|D_t] = \\gamma\n",
    "lm_1 <- lm_robust(score ~ lagdemocrat, data = lmb_subset, se_type = \"HC1\")\n",
    "# E[ADA_{t}|D_t] = \\pi_1\n",
    "lm_2 <- lm_robust(score ~ democrat, data = lmb_subset, se_type = \"HC1\")\n",
    "# E[D_{t+1}|D_t] = P_{t+1}^D - P_{t+1}^R\n",
    "lm_3 <- lm_robust(democrat ~ lagdemocrat, data = lmb_subset, se_type = \"HC1\")\n",
    "screenreg(l = list(lm_1, lm_2,lm_3),\n",
    "          digits = 2,\n",
    "          # caption = 'title',\n",
    "          custom.model.names = c(\"ADA_t+1\", \"ADA_t\", \"DEM_t+1\"),\n",
    "          include.ci = F,\n",
    "          include.rsquared = FALSE, include.adjrs = FALSE, include.nobs = T,\n",
    "          include.pvalues = FALSE, include.df = FALSE, include.rmse = FALSE,\n",
    "          custom.coef.map = list(\"lagdemocrat\"=\"lagdemocrat\",\"democrat\"=\"democrat\"),\n",
    "          # select coefficients to report\n",
    "          stars = numeric(0))"
   ]
  },
  {
   "cell_type": "markdown",
   "id": "d02f813d",
   "metadata": {},
   "source": [
    "McCrary density test (local polynomial density estimation) to check continuity assumption\n",
    "Do you see a sign that there was manipulation in the running variable at the cutoff?"
   ]
  },
  {
   "cell_type": "code",
   "execution_count": null,
   "id": "edfcffd1",
   "metadata": {
    "vscode": {
     "languageId": "r"
    }
   },
   "outputs": [],
   "source": [
    "# set the cutoff correctly\n",
    "DCdensity(lmb_data$demvoteshare, cutpoint = ) # insert the cutoff here (format: 0.x)\n",
    "\n",
    "density <- rddensity(lmb_data$demvoteshare, c = ) # insert the cutoff here (format: 0.x)\n",
    "rdplotdensity(density, lmb_data$demvoteshare)"
   ]
  }
 ],
 "metadata": {
  "kernelspec": {
   "display_name": "R",
   "language": "R",
   "name": "ir"
  },
  "language_info": {
   "codemirror_mode": "r",
   "file_extension": ".r",
   "mimetype": "text/x-r-source",
   "name": "R",
   "pygments_lexer": "r",
   "version": "3.6.1"
  }
 },
 "nbformat": 4,
 "nbformat_minor": 5
}
