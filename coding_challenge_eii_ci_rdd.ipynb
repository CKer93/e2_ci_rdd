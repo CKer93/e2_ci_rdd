{
 "cells": [
  {
   "cell_type": "markdown",
   "id": "07834f53",
   "metadata": {},
   "source": [
    "Load required packages"
   ]
  },
  {
   "cell_type": "code",
   "execution_count": null,
   "id": "066f8294",
   "metadata": {
    "vscode": {
     "languageId": "r"
    }
   },
   "outputs": [],
   "source": [
    "library(tidyverse)\n",
    "library(haven)\n",
    "library(estimatr)\n",
    "library(stats)"
   ]
  },
  {
   "cell_type": "markdown",
   "id": "68dd9b27",
   "metadata": {},
   "source": [
    "Load data from github and create a subset near the cutpoint"
   ]
  },
  {
   "cell_type": "code",
   "execution_count": null,
   "id": "1adaef3c",
   "metadata": {
    "vscode": {
     "languageId": "r"
    }
   },
   "outputs": [],
   "source": [
    "read_data <- function(df)\n",
    "{\n",
    "  full_path <- paste(\"https://raw.github.com/scunning1975/mixtape/master/\", \n",
    "                     df, sep = \"\")\n",
    "  df <- read_dta(full_path)\n",
    "  return(df)\n",
    "}\n",
    "\n",
    "lmb_data <- read_data(\"lmb-data.dta\")\n",
    "\n",
    "# reduce the dataset and only focus on vote shares larger 48% and lower 52%\n",
    "lmb_subset <- lmb_data %>% \n",
    "  filter(lagdemvoteshare>. & lagdemvoteshare<.)"
   ]
  },
  {
   "cell_type": "markdown",
   "id": "ce37e672",
   "metadata": {},
   "source": [
    "ADD tabluar analyses here !!! (see Mixtape code snippets 2-6)"
   ]
  },
  {
   "cell_type": "markdown",
   "id": "c70c38cf",
   "metadata": {},
   "source": [
    "In RDD contexts, nonparametric methods do not assume a functional form for the relationship between the outcome variable (Y) and the running variable (X).\n",
    "The model would be something like this: Y = f(X) + ε"
   ]
  },
  {
   "cell_type": "code",
   "execution_count": null,
   "id": "3689ed3f",
   "metadata": {
    "vscode": {
     "languageId": "r"
    }
   },
   "outputs": [],
   "source": [
    "#aggregating the data\n",
    "categories <- lmb_data$lagdemvoteshare\n",
    "\n",
    "demmeans <- split(lmb_data$score, cut(lmb_data$lagdemvoteshare, 100)) %>% \n",
    "  lapply(mean) %>% \n",
    "  unlist()\n",
    "\n",
    "agg_lmb_data <- data.frame(score = demmeans, lagdemvoteshare = seq(0.01,1, by = 0.01))\n",
    "\n",
    "#plotting\n",
    "lmb_data <- lmb_data %>% \n",
    "  mutate(gg_group = case_when(lagdemvoteshare > 0.5 ~ 1, TRUE ~ 0))\n",
    "\n",
    "ggplot(lmb_data, aes(lagdemvoteshare, score)) +\n",
    "  geom_point(aes(x = lagdemvoteshare, y = score), data = agg_lmb_data) +\n",
    "  stat_smooth(aes(lagdemvoteshare, score, group = gg_group), method = \"loess\") +\n",
    "  xlim(0,1) + ylim(0,100) +\n",
    "  geom_vline(xintercept = 0.5)\n",
    "\n",
    "ggplot(lmb_data, aes(lagdemvoteshare, score)) +\n",
    "  geom_point(aes(x = lagdemvoteshare, y = score), data = agg_lmb_data) +\n",
    "  stat_smooth(aes(lagdemvoteshare, score, group = gg_group), method = \"lm\") +\n",
    "  xlim(0,1) + ylim(0,100) +\n",
    "  geom_vline(xintercept = 0.5)"
   ]
  },
  {
   "cell_type": "markdown",
   "id": "d02f813d",
   "metadata": {},
   "source": [
    "McCrary density test (local polynomial density estimation) to check continuity assumption\n",
    "Do you see a sign that there was manipulation in the running variable at the cutoff?"
   ]
  },
  {
   "cell_type": "code",
   "execution_count": null,
   "id": "edfcffd1",
   "metadata": {
    "vscode": {
     "languageId": "r"
    }
   },
   "outputs": [],
   "source": [
    "# set the cutoff correctly\n",
    "DCdensity(lmb_data$demvoteshare, cutpoint = ) # insert the cutoff here (format: 0.x)\n",
    "\n",
    "density <- rddensity(lmb_data$demvoteshare, c = ) # insert the cutoff here (format: 0.x)\n",
    "rdplotdensity(density, lmb_data$demvoteshare)"
   ]
  },
  {
   "cell_type": "markdown",
   "id": "ed228808",
   "metadata": {},
   "source": [
    "Local linear nonparametric regressions (give more importance to observations closest to the center)\n",
    "This method will be sensitive to the size of the bandwidth chosen"
   ]
  },
  {
   "cell_type": "code",
   "execution_count": null,
   "id": "3450b7e1",
   "metadata": {
    "vscode": {
     "languageId": "r"
    }
   },
   "outputs": [],
   "source": [
    "# set a suitable bandwidth\n",
    "smooth_dem0 <- lmb_data %>% \n",
    "  filter(democrat == 0) %>% \n",
    "  select(score, demvoteshare)\n",
    "smooth_dem0 <- as_tibble(ksmooth(smooth_dem0$demvoteshare, smooth_dem0$score, \n",
    "                                 kernel = \"box\", bandwidth = )) # insert the bandwith here (format: 0.x)\n",
    "\n",
    "\n",
    "smooth_dem1 <- lmb_data %>% \n",
    "  filter(democrat == 1) %>% \n",
    "  select(score, demvoteshare) %>% \n",
    "  na.omit()\n",
    "smooth_dem1 <- as_tibble(ksmooth(smooth_dem1$demvoteshare, smooth_dem1$score, \n",
    "                                 kernel = \"box\", bandwidth = )) # insert the bandwith here (format: 0.x)\n",
    "\n",
    "ggplot() + \n",
    "  geom_smooth(aes(x, y), data = smooth_dem0) +\n",
    "  geom_smooth(aes(x, y), data = smooth_dem1) +\n",
    "  geom_vline(xintercept = 0.5)"
   ]
  }
 ],
 "metadata": {
  "kernelspec": {
   "display_name": "R",
   "language": "R",
   "name": "ir"
  },
  "language_info": {
   "codemirror_mode": "r",
   "file_extension": ".r",
   "mimetype": "text/x-r-source",
   "name": "R",
   "pygments_lexer": "r",
   "version": "3.6.1"
  }
 },
 "nbformat": 4,
 "nbformat_minor": 5
}
