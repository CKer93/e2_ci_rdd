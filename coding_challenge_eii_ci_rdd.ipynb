{
 "cells": [
  {
   "cell_type": "markdown",
   "id": "07834f53",
   "metadata": {},
   "source": [
    "Load required packages"
   ]
  },
  {
   "cell_type": "code",
   "execution_count": null,
   "id": "066f8294",
   "metadata": {
    "vscode": {
     "languageId": "r"
    }
   },
   "outputs": [],
   "source": [
    "# run code cell, warning messages can be ignored.\n",
    "library(tidyverse)\n",
    "library(haven)\n",
    "library(estimatr)\n",
    "library(texreg)\n",
    "library(latex2exp)\n",
    "library(stats)\n",
    "library(rdrobust)\n",
    "library(rddensity)\n",
    "library(rdd)"
   ]
  },
  {
   "cell_type": "markdown",
   "id": "68dd9b27",
   "metadata": {},
   "source": [
    "Load data from github and create a subset near the cutpoint"
   ]
  },
  {
   "cell_type": "markdown",
   "id": "edc1a0ed",
   "metadata": {},
   "source": [
    "Our main variables of interest in the dataset are the following:\n",
    " - score: ADA score in Congressional session t of the representative at district k (RC_t)\n",
    " - democrat: Indicator whether the Democrat wins in election t (D_t)\n",
    " - lagdemocrat: Indicator whether the Democrat won in election t-1 (D_t-1)\n",
    " - demvoteshare: voteshare of the Democrat in election t at district k\n",
    " - lagdemvoteshare: voteshare of the Democrat in election t-1 at district k"
   ]
  },
  {
   "cell_type": "code",
   "execution_count": null,
   "id": "1adaef3c",
   "metadata": {
    "vscode": {
     "languageId": "r"
    }
   },
   "outputs": [],
   "source": [
    "# data load\n",
    "read_data <- function(df)\n",
    "{\n",
    "  full_path <- paste(\"https://raw.github.com/scunning1975/mixtape/master/\", \n",
    "                     df, sep = \"\")\n",
    "  df <- read_dta(full_path)\n",
    "  return(df)\n",
    "}\n",
    "\n",
    "lmb_data <- read_data(\"lmb-data.dta\")\n",
    "\n",
    "# let us investigate an example \n",
    "main_variables_example <- lmb_data %>%\n",
    "  filter(district == 2) %>%\n",
    "  filter(state == 1) %>%\n",
    "  filter(year == 1948 | year == 1950) %>%\n",
    "  select(year, adayear,score,  democrat, lagdemocrat, demvoteshare, lagdemvoteshare) %>%\n",
    "  group_by(year) %>%\n",
    "  arrange(adayear)\n",
    "\n",
    "print(main_variables_example)"
   ]
  },
  {
   "cell_type": "code",
   "execution_count": null,
   "id": "1ef0e23c",
   "metadata": {
    "vscode": {
     "languageId": "r"
    }
   },
   "outputs": [],
   "source": [
    "##################\n",
    "# CODING ACTION: #\n",
    "##################\n",
    "# sestrict sample that it includes only observations\n",
    "# where the Democrat vote share at time t-1 is strictly between 48% and 52%\n",
    "lmb_subset <- lmb_data %>% \n",
    "  filter(lagdemvoteshare>0. & lagdemvoteshare<0.) # vote share bounds here (format: 0.xx)\n",
    "##################\n",
    "\n",
    "# data aggregation\n",
    "# calculate mean value for every 0.01 voteshare\n",
    "demmeans <- split(lmb_data$democrat, cut(lmb_data$lagdemvoteshare, 100)) %>%\n",
    "  lapply(mean) %>%\n",
    "  unlist()\n",
    "# creating new data frame for plotting\n",
    "agg_lmb_data <- data.frame(democrat = demmeans, lagdemvoteshare = seq(0.01,1, by = 0.01)) "
   ]
  },
  {
   "cell_type": "markdown",
   "id": "ed228808",
   "metadata": {},
   "source": [
    "First, we analyze the effect of the relationship between the ADA score (how liberal is the vote) and the vote share of the Democratic candidate, the so-called party affiliation effect.\n",
    "\n",
    "To do so, we use a local linear nonparametric regression, which gives more importance to observations close to the cutpoint. Please note, that this method will be sensitive to the size of the bandwidth chosen."
   ]
  },
  {
   "cell_type": "code",
   "execution_count": null,
   "id": "3450b7e1",
   "metadata": {
    "vscode": {
     "languageId": "r"
    }
   },
   "outputs": [],
   "source": [
    "##################\n",
    "# CODING ACTION: #\n",
    "##################\n",
    "# set a suitable bandwidth\n",
    "smooth_dem0 <- lmb_data %>% \n",
    "  filter(democrat == 0) %>% \n",
    "  select(score, demvoteshare)\n",
    "smooth_dem0 <- as_tibble(ksmooth(smooth_dem0$demvoteshare, smooth_dem0$score, \n",
    "                                 kernel = \"box\", bandwidth = )) # insert the bandwith here (format: 0.x)\n",
    "\n",
    "\n",
    "smooth_dem1 <- lmb_data %>% \n",
    "  filter(democrat == 1) %>% \n",
    "  select(score, demvoteshare) %>% \n",
    "  na.omit()\n",
    "smooth_dem1 <- as_tibble(ksmooth(smooth_dem1$demvoteshare, smooth_dem1$score, \n",
    "                                 kernel = \"box\", bandwidth = )) # insert the bandwith here (format: 0.x)\n",
    "##################\n",
    "ggplot() + \n",
    "  geom_smooth(aes(x, y), data = smooth_dem0) +\n",
    "  geom_smooth(aes(x, y), data = smooth_dem1) +\n",
    "  geom_vline(xintercept = 0.5) +\n",
    "  xlab(\"Democrat Vote Share, time t\") +\n",
    "  ylab(\"ADA score, time t\") "
   ]
  },
  {
   "cell_type": "markdown",
   "id": "90347fc9",
   "metadata": {},
   "source": [
    "Next, we want to see, if we can find proof of an incumbency effect. This means, does a candidate has a higher chance to be re-elected in the next election period when she has won the previous election.\n",
    "\n",
    "To do so, we use a quadratic formulation to describe the relationship between the probability of winning the next election and the Democrat vote share of the most recent election."
   ]
  },
  {
   "cell_type": "code",
   "execution_count": null,
   "id": "3db1773e",
   "metadata": {
    "vscode": {
     "languageId": "r"
    }
   },
   "outputs": [],
   "source": [
    "lmb_data <- lmb_data %>%\n",
    "  mutate(gg_group = if_else(lagdemvoteshare > 0.5, 1,0))\n",
    "#plotting\n",
    "gg_srd <- ggplot(data=lmb_data, aes(lagdemvoteshare, democrat)) +\n",
    "  geom_point(aes(x = lagdemvoteshare, y = democrat), data = agg_lmb_data)  +\n",
    "  xlim(0,1) + ylim(-0.1,1.1) +\n",
    "  geom_vline(xintercept = 0.5) +\n",
    "  xlab(\"Democrat Vote Share, time t\") +\n",
    "  ylab(\"Probability of Democrat Win, time t+1\") +\n",
    "  scale_y_continuous(breaks=seq(0,1,0.2)) +\n",
    "  ggtitle(TeX(\"Effect of Initial Win on Winning Next Election: $\\\\P^D_{t+1} - P^R_{t+1}$\"))\n",
    "##################\n",
    "# CODING ACTION: #\n",
    "##################\n",
    "gg_srd + stat_smooth(aes(lagdemvoteshare, democrat, group = gg_group),\n",
    "                     method = \"lm\", formula = y ~ x + I(x^)) # set the order of the polynomial regression (I(x^o))\n",
    "##################"
   ]
  },
  {
   "cell_type": "markdown",
   "id": "c70c38cf",
   "metadata": {},
   "source": [
    "Now we plot the relationship between the candidates second-period ADA score and the the running variable, Democratic vote share. The discontinuty gap is defined as the combination of the 'Affect' and 'Elect' term."
   ]
  },
  {
   "cell_type": "code",
   "execution_count": null,
   "id": "3689ed3f",
   "metadata": {
    "vscode": {
     "languageId": "r"
    }
   },
   "outputs": [],
   "source": [
    "# data aggregation\n",
    "categories <- lmb_data$lagdemvoteshare\n",
    "\n",
    "demmeans <- split(lmb_data$score, cut(lmb_data$lagdemvoteshare, 100)) %>% \n",
    "  lapply(mean) %>% \n",
    "  unlist()\n",
    "\n",
    "agg_lmb_data <- data.frame(score = demmeans, lagdemvoteshare = seq(0.01,1, by = 0.01))\n",
    "\n",
    "# plotting\n",
    "lmb_data <- lmb_data %>% \n",
    "  mutate(gg_group = case_when(lagdemvoteshare > 0.5 ~ 1, TRUE ~ 0))\n",
    "\n",
    "\n",
    " ggplot(lmb_data, aes(lagdemvoteshare, score)) +\n",
    "  xlab(\"Democrat Vote Share, time t\") +\n",
    "  ylab(\"ADA Score, time t+1\") +\n",
    "  geom_point(aes(x = lagdemvoteshare, y = score), data = agg_lmb_data) +\n",
    "  stat_smooth(aes(lagdemvoteshare, score, group = gg_group), method = \"lm\") +\n",
    "  xlim(0,1) + ylim(0,100) +\n",
    "  geom_vline(xintercept = 0.5)\n",
    "\n",
    "##################\n",
    "# CODING ACTION: #\n",
    "##################\n",
    "ggplot(lmb_data, aes(lagdemvoteshare, score)) +\n",
    "  xlab(\"Democrat Vote Share, time t\") +\n",
    "  ylab(\"ADA Score, time t+1\") +\n",
    "  geom_point(aes(x = lagdemvoteshare, y = score), data = agg_lmb_data) +\n",
    "  stat_smooth(aes(lagdemvoteshare, score, group = gg_group), method = \"lm\",\n",
    "              # formula = [...] what needs to be added here, to make the regression more smooth? Hint: order of polynomial reg.\n",
    "             ) + \n",
    "  ##################\n",
    "  xlim(0,1) + ylim(0,100) +\n",
    "  geom_vline(xintercept = 0.5)"
   ]
  },
  {
   "cell_type": "markdown",
   "id": "7f48b768",
   "metadata": {},
   "source": [
    "After the graphical analysis, we now want to test if voters can affect policies (partial convergence) or merely elect policies (complete policy divergence) empirically. Therefore, we want to replicate Table 1 of Lee, Moretti, and Butler (2004) to decompose the overall effect 𝛾 into the elect component and affect component by running local regressions.\n"
   ]
  },
  {
   "cell_type": "code",
   "execution_count": null,
   "id": "c3cc5087",
   "metadata": {
    "vscode": {
     "languageId": "r"
    }
   },
   "outputs": [],
   "source": [
    "# Estimate overall effect 𝛾 = E[ADA_{t+1}|D_t]\n",
    "lm_1 <- lm_robust(score ~ lagdemocrat, data = lmb_subset, clusters = id)\n",
    "# Estimate effect of Party affiliation 𝜋_1 = E[ADA_{t}|D_t]\n",
    "lm_2 <- lm_robust(score ~ democrat, data = lmb_subset, clusters = id)\n",
    "\n",
    "##################\n",
    "# CODING ACTION: #\n",
    "##################\n",
    "# Estimate Incumbency effect P_{t+1}^D - P_{t+1}^R = E[D_{t+1}|D_t]\n",
    "lm_3 <- lm_robust(democrat ~ #Which variable needs to be added here?\n",
    "                    , data = lmb_subset, cluster  = id)\n",
    "#################\n",
    "\n",
    "#Replicate Table 1 of of Lee, Moretti, and Butler (2004)\n",
    "table_1 <- screenreg(l = list(lm_1, lm_2,lm_3),\n",
    "          digits = 2,\n",
    "          # caption = 'title',\n",
    "          custom.header = list(\"𝛾\" = 1, \"Party Affiliation\" = 2, \"Incumbency\" = 3),\n",
    "          custom.model.names = c(\"ADA_t+1\", \"ADA_t\", \"DEM_t+1\"),\n",
    "          include.ci = F,\n",
    "          include.rsquared = FALSE, include.adjrs = FALSE, include.nobs = T,\n",
    "          include.pvalues = FALSE, include.df = FALSE, include.rmse = FALSE,\n",
    "          custom.coef.map = list(\"lagdemocrat\"=\"lagdemocrat\",\"democrat\"=\"democrat\"),\n",
    "          # select coefficients to report\n",
    "          stars = c(0.01, 0.05, 0.1))\n",
    "print(table_1)"
   ]
  },
  {
   "cell_type": "markdown",
   "id": "6a85331d",
   "metadata": {},
   "source": [
    "Interpretation:\n",
    "A victory of the Democratic candidate increases liberal voting by 21 points (total effect) in the next congressional session (t+1) and by 48 points (Party Affiliation) in the current congressional session t. Furthermore, a Democratic victory in period t increases the probability of reelection in the next period by 48% (Incumbency effect).\n",
    "\n",
    "But how does this answer the research question?\n",
    "Remember, the total effect is the sum of the affect component and the elect component.\n",
    "Thus, we can solve for the unobservable affect component, i.e., 𝛾 - 𝜋_1 * (P_{t+1}^D - P_{t+1}^R)\n",
    "Affect component = 21.28 - 47.71 * 0.48 = -1.62\n",
    "\n",
    "Since the affect component is close to zero, voters merely elect policies (complete divergence)."
   ]
  },
  {
   "cell_type": "markdown",
   "id": "d02f813d",
   "metadata": {},
   "source": [
    "Bonus: McCrary density test (local polynomial density estimation) to check continuity assumption\n",
    "Do you see a sign that there was manipulation in the running variable at the cutoff?"
   ]
  },
  {
   "cell_type": "code",
   "execution_count": null,
   "id": "edfcffd1",
   "metadata": {
    "vscode": {
     "languageId": "r"
    }
   },
   "outputs": [],
   "source": [
    "# set the cutoff correctly\n",
    "##################\n",
    "# CODING ACTION: #\n",
    "##################\n",
    "DCdensity(lmb_data$demvoteshare, cutpoint = ) # insert the cutoff here (format: 0.x)\n",
    "density <- rddensity(lmb_data$demvoteshare, c = ) # insert the cutoff here (format: 0.x)\n",
    "#################\n",
    "rdplotdensity(density, lmb_data$demvoteshare)"
   ]
  }
 ],
 "metadata": {
  "kernelspec": {
   "display_name": "R",
   "language": "R",
   "name": "ir"
  },
  "language_info": {
   "codemirror_mode": "r",
   "file_extension": ".r",
   "mimetype": "text/x-r-source",
   "name": "R",
   "pygments_lexer": "r",
   "version": "3.6.1"
  }
 },
 "nbformat": 4,
 "nbformat_minor": 5
}
