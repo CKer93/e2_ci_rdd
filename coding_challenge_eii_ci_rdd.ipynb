{
 "cells": [
  {
   "cell_type": "code",
   "execution_count": null,
   "id": "066f8294",
   "metadata": {},
   "outputs": [],
   "source": [
    "library(tidyverse)\n",
    "library(haven)\n",
    "library(estimatr)"
   ]
  },
  {
   "cell_type": "code",
   "execution_count": null,
   "id": "5d132386",
   "metadata": {},
   "outputs": [],
   "source": [
    "install.packages(\"tidyverse\")"
   ]
  },
  {
   "cell_type": "code",
   "execution_count": null,
   "id": "a2d82350",
   "metadata": {},
   "outputs": [],
   "source": [
    "library(tidyverse)"
   ]
  },
  {
   "cell_type": "code",
   "execution_count": null,
   "id": "1adaef3c",
   "metadata": {},
   "outputs": [],
   "source": []
  }
 ],
 "metadata": {
  "kernelspec": {
   "display_name": "R",
   "language": "R",
   "name": "ir"
  },
  "language_info": {
   "codemirror_mode": "r",
   "file_extension": ".r",
   "mimetype": "text/x-r-source",
   "name": "R",
   "pygments_lexer": "r",
   "version": "3.6.1"
  }
 },
 "nbformat": 4,
 "nbformat_minor": 5
}
